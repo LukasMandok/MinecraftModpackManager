{
 "cells": [
  {
   "cell_type": "code",
   "execution_count": 1,
   "metadata": {},
   "outputs": [],
   "source": [
    "import numpy as np"
   ]
  },
  {
   "cell_type": "code",
   "execution_count": 34,
   "metadata": {},
   "outputs": [],
   "source": [
    "from fuzzywuzzy import fuzz, process\n",
    "\n",
    "\n",
    "def custom_scorer(query, choice):\n",
    "    exact_match_bonus = 1000  # Some high value to ensure exact matches are prioritized\n",
    "    length_penalty = abs(len(query) - len(choice))\n",
    "\n",
    "    # Check for exact match\n",
    "    if query == choice:\n",
    "        return exact_match_bonus\n",
    "\n",
    "    # + fuzz.ratio(query, choice) \n",
    "    score = fuzz.WRatio(query, choice) - length_penalty * 0.1\n",
    "    return score"
   ]
  },
  {
   "cell_type": "code",
   "execution_count": 18,
   "metadata": {},
   "outputs": [],
   "source": [
    "mods1 = [\"mod 1\", \"mod 2\", \"mod 3\", \"mod 4\"]\n",
    "mods2 = [\"mod 1\", \"mod 3\", \"mod 2\", \"mod4\", \"mod 5\"]"
   ]
  },
  {
   "cell_type": "code",
   "execution_count": 50,
   "metadata": {},
   "outputs": [],
   "source": [
    "def match_mods(*mods):\n",
    "        # throw error, if only one mod is given:\n",
    "        if len(mods) < 2:\n",
    "            raise ValueError(\"At least two mods must be given\")\n",
    "        \n",
    "        # calculates single score for two mods or mod lists\n",
    "        elif len(mods) == 2:\n",
    "            mod0 = mods[0]\n",
    "            mod1 = mods[1]\n",
    "            \n",
    "            # calculate score matrix for one or two mod lists\n",
    "            if isinstance(mod0, list) or isinstance(mod1, list):\n",
    "                print(\"calculate for 2 lists\")\n",
    "                # convert both to a list, if they are not lists already:\n",
    "                mod0 = mods[0] if isinstance(mods[0], list) else [mods[0]]\n",
    "                mod1 = mods[1] if isinstance(mods[1], list) else [mods[1]]\n",
    "                \n",
    "                print(\"mod0: \", mod0)\n",
    "                print(\"mod1: \", mod1)\n",
    "                scores =  np.zeros((len(mod0), len(mod1)))\n",
    "                for i in range(len(mod0)):\n",
    "                    for j in range(len(mod1)):\n",
    "                        scores[i,j] = custom_scorer(mod0[i], mod1[j])\n",
    "                return scores                \n",
    "            \n",
    "            # calculate score for two mods\n",
    "            else:\n",
    "                print(\"caculate for 2 mods\")\n",
    "                score = custom_scorer(mods[0], mods[1])\n",
    "                return score\n",
    "            \n",
    "        # calculate score matrix for multiple mods\n",
    "        else:\n",
    "            print(\"calculate for one list\")\n",
    "            # Iterate over all combination of mods and calculate a score:\n",
    "            scores = np.zeros((len(mods), len(mods)))\n",
    "            for i in range(len(mods)):\n",
    "                for j in range(i+1, len(mods)):\n",
    "                    # calculate score\n",
    "                    score = custom_scorer(mods[i], mods[j])\n",
    "                    scores[i, j] = score\n",
    "                    scores[j, i] = score\n",
    "                    \n",
    "            return scores\n",
    "        "
   ]
  },
  {
   "cell_type": "code",
   "execution_count": 55,
   "metadata": {},
   "outputs": [
    {
     "name": "stdout",
     "output_type": "stream",
     "text": [
      "calculate for 2 lists\n",
      "mod0:  ['Terralith', 'Terralith Biome Saplings', 'Treeplacer - Terralith Addon', 'Village Nullifier: Terralith', 'Remove Terralith Intro Message']\n",
      "mod1:  ['Terralith', 'Terralith Adventure', 'Dynamic Trees - Terralith', \"Skrau's Terralith and More\", 'Village Nullifier: Terralith [Forge]']\n"
     ]
    },
    {
     "data": {
      "text/plain": [
       "array([[1000. ,   89. ,   88.4,   88.3,   87.3],\n",
       "       [  88.5,   60.5,   52.9,   56.8,   51.8],\n",
       "       [  88.1,   66.1,   65.7,   62.8,   54.2],\n",
       "       [  88.1,   60.1,   52.7,   49.8,   94.2],\n",
       "       [  87.9,   84.9,   56.5,   57.6,   50.4]])"
      ]
     },
     "execution_count": 55,
     "metadata": {},
     "output_type": "execute_result"
    }
   ],
   "source": [
    "match_mods([\"Terralith\", \"Terralith Biome Saplings\", \"Treeplacer - Terralith Addon\", \"Village Nullifier: Terralith\", \"Remove Terralith Intro Message\"], \n",
    "           [\"Terralith\", \"Terralith Adventure\", \"Dynamic Trees - Terralith\", \"Skrau's Terralith and More\", \"Village Nullifier: Terralith [Forge]\"])"
   ]
  },
  {
   "cell_type": "code",
   "execution_count": null,
   "metadata": {},
   "outputs": [],
   "source": []
  },
  {
   "cell_type": "code",
   "execution_count": null,
   "metadata": {},
   "outputs": [],
   "source": []
  }
 ],
 "metadata": {
  "kernelspec": {
   "display_name": "Python 3",
   "language": "python",
   "name": "python3"
  },
  "language_info": {
   "codemirror_mode": {
    "name": "ipython",
    "version": 3
   },
   "file_extension": ".py",
   "mimetype": "text/x-python",
   "name": "python",
   "nbconvert_exporter": "python",
   "pygments_lexer": "ipython3",
   "version": "3.10.11"
  }
 },
 "nbformat": 4,
 "nbformat_minor": 2
}
