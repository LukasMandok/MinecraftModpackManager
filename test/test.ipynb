{
 "cells": [
  {
   "cell_type": "code",
   "execution_count": 1,
   "metadata": {},
   "outputs": [],
   "source": [
    "from src.manager import application_manager"
   ]
  },
  {
   "cell_type": "code",
   "execution_count": 2,
   "metadata": {},
   "outputs": [],
   "source": [
    "manager = application_manager.ApplicationManager()"
   ]
  },
  {
   "cell_type": "code",
   "execution_count": 3,
   "metadata": {},
   "outputs": [
    {
     "name": "stdout",
     "output_type": "stream",
     "text": [
      "name: the twilight forrest\n",
      "url:  https://api.modrinth.com/v2/search?query=the+twilight+forrest&limit=20&index=relevance&offset=0&facets=%5B%5B%22project_type+%3A+mod%22%5D%5D\n",
      "- indices :  [10] \n",
      "- scores :  [85.3]\n",
      "best projects:  ['The Aether II']\n",
      "redirecting to api:  search_id_tag\n",
      "url:  https://api.modrinth.com/v2/projects?ids=%5B%22JD2NSu5O%22%5D\n",
      "redirecting to api:  id_tag\n",
      "url:  https://www.curseforge.com/api/v1/mods/search?filterText=the+twilight+forrest&gameId=432&sortField=1&pageSize=50&index=0\n",
      "- indices :  [0] \n",
      "- scores :  [96.9]\n",
      "best projects:  ['The Twilight Forest']\n",
      "redirecting to api:  search_id_tag\n",
      "url:  https://api.curseforge.com/v1/mods\n",
      "redirecting to api:  id_tag\n"
     ]
    },
    {
     "ename": "TypeError",
     "evalue": "unsupported operand type(s) for -: 'list' and 'list'",
     "output_type": "error",
     "traceback": [
      "\u001b[1;31m---------------------------------------------------------------------------\u001b[0m",
      "\u001b[1;31mTypeError\u001b[0m                                 Traceback (most recent call last)",
      "\u001b[1;32mc:\\Users\\Lukas\\git\\Minecraft\\MinecraftModpackManager\\test\\test.ipynb Cell 3\u001b[0m line \u001b[0;36m<cell line: 1>\u001b[1;34m()\u001b[0m\n\u001b[1;32m----> <a href='vscode-notebook-cell:/c%3A/Users/Lukas/git/Minecraft/MinecraftModpackManager/test/test.ipynb#W3sZmlsZQ%3D%3D?line=0'>1</a>\u001b[0m manager\u001b[39m.\u001b[39;49mapiManager\u001b[39m.\u001b[39;49mretrieve_mod(\u001b[39m\"\u001b[39;49m\u001b[39mthe twilight forrest\u001b[39;49m\u001b[39m\"\u001b[39;49m)\n",
      "File \u001b[1;32mc:\\Users\\Lukas\\git\\Minecraft\\MinecraftModpackManager\\src\\manager\\api_manager.py:32\u001b[0m, in \u001b[0;36mApiManager.retrieve_mod\u001b[1;34m(self, name)\u001b[0m\n\u001b[0;32m     29\u001b[0m mod_m, score_m \u001b[39m=\u001b[39m \u001b[39mself\u001b[39m\u001b[39m.\u001b[39mm_api\u001b[39m.\u001b[39mfind_best_matching_mod(name)\n\u001b[0;32m     30\u001b[0m mod_c, score_c \u001b[39m=\u001b[39m \u001b[39mself\u001b[39m\u001b[39m.\u001b[39mc_api\u001b[39m.\u001b[39mfind_best_matching_mod(name)\n\u001b[1;32m---> 32\u001b[0m score_diff \u001b[39m=\u001b[39m \u001b[39mabs\u001b[39m(score_m \u001b[39m-\u001b[39;49m score_c)\n\u001b[0;32m     33\u001b[0m \u001b[39mprint\u001b[39m(\u001b[39m\"\u001b[39m\u001b[39mscore diff: \u001b[39m\u001b[39m\"\u001b[39m, score_diff)\n\u001b[0;32m     36\u001b[0m comparison_score \u001b[39m=\u001b[39m utils\u001b[39m.\u001b[39mmatch_mods(mod_m, mod_c)\n",
      "\u001b[1;31mTypeError\u001b[0m: unsupported operand type(s) for -: 'list' and 'list'"
     ]
    }
   ],
   "source": [
    "manager.apiManager.retrieve_mod(\"the twilight forrest\")"
   ]
  },
  {
   "cell_type": "code",
   "execution_count": null,
   "metadata": {},
   "outputs": [],
   "source": []
  }
 ],
 "metadata": {
  "kernelspec": {
   "display_name": "Python 3",
   "language": "python",
   "name": "python3"
  },
  "language_info": {
   "codemirror_mode": {
    "name": "ipython",
    "version": 3
   },
   "file_extension": ".py",
   "mimetype": "text/x-python",
   "name": "python",
   "nbconvert_exporter": "python",
   "pygments_lexer": "ipython3",
   "version": "3.10.11"
  }
 },
 "nbformat": 4,
 "nbformat_minor": 2
}
