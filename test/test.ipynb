{
 "cells": [
  {
   "cell_type": "code",
   "execution_count": 1,
   "metadata": {},
   "outputs": [],
   "source": [
    "from src.manager import application_manager"
   ]
  },
  {
   "cell_type": "code",
   "execution_count": 2,
   "metadata": {},
   "outputs": [],
   "source": [
    "manager = application_manager.ApplicationManager()"
   ]
  },
  {
   "cell_type": "code",
   "execution_count": 3,
   "metadata": {},
   "outputs": [
    {
     "name": "stdout",
     "output_type": "stream",
     "text": [
      "name: the twilight forrest\n",
      "url:  https://api.modrinth.com/v2/search?query=the+twilight+forrest&limit=20&index=relevance&offset=0&facets=%5B%5B%22project_type+%3A+mod%22%5D%5D\n",
      "- indices :  [10] \n",
      "- scores :  [85.3]\n",
      "best projects:  ['The Aether II']\n",
      "redirecting to api:  search_id_tag\n",
      "url:  https://api.modrinth.com/v2/projects?ids=%5B%22JD2NSu5O%22%5D\n",
      "redirecting to api:  id_tag\n",
      "url:  https://www.curseforge.com/api/v1/mods/search?filterText=the+twilight+forrest&gameId=432&sortField=1&pageSize=50&index=0\n",
      "- indices :  [0] \n",
      "- scores :  [96.9]\n",
      "best projects:  ['The Twilight Forest']\n",
      "redirecting to api:  search_id_tag\n",
      "url:  https://api.curseforge.com/v1/mods\n",
      "redirecting to api:  id_tag\n"
     ]
    },
    {
     "ename": "TypeError",
     "evalue": "unsupported operand type(s) for -: 'list' and 'list'",
     "output_type": "error",
     "traceback": [
      "\u001b[1;31m---------------------------------------------------------------------------\u001b[0m",
      "\u001b[1;31mTypeError\u001b[0m                                 Traceback (most recent call last)",
      "\u001b[1;32mc:\\Users\\Lukas\\git\\Minecraft\\MinecraftModpackManager\\test\\test.ipynb Cell 3\u001b[0m line \u001b[0;36m<cell line: 1>\u001b[1;34m()\u001b[0m\n\u001b[1;32m----> <a href='vscode-notebook-cell:/c%3A/Users/Lukas/git/Minecraft/MinecraftModpackManager/test/test.ipynb#W3sZmlsZQ%3D%3D?line=0'>1</a>\u001b[0m manager\u001b[39m.\u001b[39;49mapiManager\u001b[39m.\u001b[39;49mretrieve_mod(\u001b[39m\"\u001b[39;49m\u001b[39mthe twilight forrest\u001b[39;49m\u001b[39m\"\u001b[39;49m)\n",
      "File \u001b[1;32mc:\\Users\\Lukas\\git\\Minecraft\\MinecraftModpackManager\\src\\manager\\api_manager.py:32\u001b[0m, in \u001b[0;36mApiManager.retrieve_mod\u001b[1;34m(self, name)\u001b[0m\n\u001b[0;32m     29\u001b[0m mod_m, score_m \u001b[39m=\u001b[39m \u001b[39mself\u001b[39m\u001b[39m.\u001b[39mm_api\u001b[39m.\u001b[39mfind_best_matching_mod(name)\n\u001b[0;32m     30\u001b[0m mod_c, score_c \u001b[39m=\u001b[39m \u001b[39mself\u001b[39m\u001b[39m.\u001b[39mc_api\u001b[39m.\u001b[39mfind_best_matching_mod(name)\n\u001b[1;32m---> 32\u001b[0m score_diff \u001b[39m=\u001b[39m \u001b[39mabs\u001b[39m(score_m \u001b[39m-\u001b[39;49m score_c)\n\u001b[0;32m     33\u001b[0m \u001b[39mprint\u001b[39m(\u001b[39m\"\u001b[39m\u001b[39mscore diff: \u001b[39m\u001b[39m\"\u001b[39m, score_diff)\n\u001b[0;32m     36\u001b[0m comparison_score \u001b[39m=\u001b[39m utils\u001b[39m.\u001b[39mmatch_mods(mod_m, mod_c)\n",
      "\u001b[1;31mTypeError\u001b[0m: unsupported operand type(s) for -: 'list' and 'list'"
     ]
    }
   ],
   "source": [
    "manager.apiManager.retrieve_mod(\"the twilight forrest\")"
   ]
  },
  {
   "cell_type": "code",
   "execution_count": 1,
   "metadata": {},
   "outputs": [],
   "source": [
    "import re\n",
    "\n",
    "def remove_brackets(text):\n",
    "    return re.sub(r'\\[.*?\\]', '', text)"
   ]
  },
  {
   "cell_type": "code",
   "execution_count": 2,
   "metadata": {},
   "outputs": [
    {
     "name": "stdout",
     "output_type": "stream",
     "text": [
      "Terralit \n"
     ]
    }
   ],
   "source": [
    "text = \"Terralit [Forge/Fabric]\"\n",
    "\n",
    "print(remove_brackets(text))"
   ]
  },
  {
   "cell_type": "code",
   "execution_count": 43,
   "metadata": {},
   "outputs": [],
   "source": [
    "line = \"\\t\\tThe Aether II  \"\n",
    "comment = \"\\t\\t# This is a comment  \"\n",
    "empty = \"\\t\\t\"\n",
    "\n",
    "filepath = r\"C:\\Users\\Lukas\\git\\Minecraft\\MinecraftModpackManager\\data\\download_list.txt\"\n",
    "with open(filepath, 'r') as f:\n",
    "    lines = f.readlines()\n"
   ]
  },
  {
   "cell_type": "code",
   "execution_count": 52,
   "metadata": {},
   "outputs": [],
   "source": [
    "def parse_file(lines):\n",
    "    current_categories = []\n",
    "    previous_indentation = 0\n",
    "    previous_line = None\n",
    "    mods = {}\n",
    "    intendation_steps = None\n",
    "    \n",
    "    def add_mod(name, categories):\n",
    "        print(\"add mod:\", name)\n",
    "        mods[name] = categories.copy()\n",
    "    \n",
    "    for line in lines:\n",
    "        line = line.rstrip() # remove trailing whitespace\n",
    "        \n",
    "        # TODO: more preciise way to determine indentation (separate tabs from spaces)\n",
    "        indentation = len(line) - len(line.lstrip())\n",
    "        line = line.strip()\n",
    "        \n",
    "        # ignore comments and emtpy lines\n",
    "        if line.startswith(\"#\") or line is None or line == \"\":\n",
    "            continue\n",
    "        \n",
    "        # ignore comment part of not-empty lines and strip again\n",
    "        line = line.split(\"#\")[0].strip()\n",
    "        \n",
    "        # calculate intendation difference to previous line and normalize to 1\n",
    "        diff = indentation - previous_indentation\n",
    "        if intendation_steps is None:\n",
    "            if diff > 0:\n",
    "                intendation_steps = diff\n",
    "        else:\n",
    "            diff //= intendation_steps\n",
    "            \n",
    "        print(\"intendation diff:\", diff, \"categories:\", current_categories)\n",
    "        if previous_line:\n",
    "            if diff > 0:\n",
    "                # previous line was a category\n",
    "                current_categories.append(previous_line)\n",
    "                \n",
    "            elif diff < 0:\n",
    "                # prvious line was a mod\n",
    "                add_mod(previous_line, current_categories)\n",
    "                # remove |diff| number of categories\n",
    "                current_categories = current_categories[:diff]\n",
    "                \n",
    "            elif diff == 0:\n",
    "                # add mod:\n",
    "                add_mod(previous_line, current_categories)\n",
    "                \n",
    "        previous_line = line\n",
    "        previous_indentation = indentation\n",
    "        \n",
    "    # Process the last line of the file\n",
    "    if previous_line:\n",
    "        add_mod(previous_line, current_categories)\n",
    "        \n",
    "        \n",
    "    print(mods)\n",
    "            "
   ]
  },
  {
   "cell_type": "code",
   "execution_count": 53,
   "metadata": {},
   "outputs": [
    {
     "name": "stdout",
     "output_type": "stream",
     "text": [
      "intendation diff: 0 categories: []\n",
      "intendation diff: 0 categories: []\n",
      "add mod: ServerSync\n"
     ]
    },
    {
     "ename": "AttributeError",
     "evalue": "'list' object has no attribute 'deepcopy'",
     "output_type": "error",
     "traceback": [
      "\u001b[1;31m---------------------------------------------------------------------------\u001b[0m",
      "\u001b[1;31mAttributeError\u001b[0m                            Traceback (most recent call last)",
      "\u001b[1;32mc:\\Users\\Lukas\\git\\Minecraft\\MinecraftModpackManager\\test\\test.ipynb Cell 8\u001b[0m line \u001b[0;36m<cell line: 1>\u001b[1;34m()\u001b[0m\n\u001b[1;32m----> <a href='vscode-notebook-cell:/c%3A/Users/Lukas/git/Minecraft/MinecraftModpackManager/test/test.ipynb#X10sZmlsZQ%3D%3D?line=0'>1</a>\u001b[0m parse_file(lines)\n",
      "\u001b[1;32mc:\\Users\\Lukas\\git\\Minecraft\\MinecraftModpackManager\\test\\test.ipynb Cell 8\u001b[0m line \u001b[0;36mparse_file\u001b[1;34m(lines)\u001b[0m\n\u001b[0;32m     <a href='vscode-notebook-cell:/c%3A/Users/Lukas/git/Minecraft/MinecraftModpackManager/test/test.ipynb#X10sZmlsZQ%3D%3D?line=43'>44</a>\u001b[0m         current_categories \u001b[39m=\u001b[39m current_categories[:diff]\n\u001b[0;32m     <a href='vscode-notebook-cell:/c%3A/Users/Lukas/git/Minecraft/MinecraftModpackManager/test/test.ipynb#X10sZmlsZQ%3D%3D?line=45'>46</a>\u001b[0m     \u001b[39melif\u001b[39;00m diff \u001b[39m==\u001b[39m \u001b[39m0\u001b[39m:\n\u001b[0;32m     <a href='vscode-notebook-cell:/c%3A/Users/Lukas/git/Minecraft/MinecraftModpackManager/test/test.ipynb#X10sZmlsZQ%3D%3D?line=46'>47</a>\u001b[0m         \u001b[39m# add mod:\u001b[39;00m\n\u001b[1;32m---> <a href='vscode-notebook-cell:/c%3A/Users/Lukas/git/Minecraft/MinecraftModpackManager/test/test.ipynb#X10sZmlsZQ%3D%3D?line=47'>48</a>\u001b[0m         add_mod(previous_line, current_categories)\n\u001b[0;32m     <a href='vscode-notebook-cell:/c%3A/Users/Lukas/git/Minecraft/MinecraftModpackManager/test/test.ipynb#X10sZmlsZQ%3D%3D?line=49'>50</a>\u001b[0m previous_line \u001b[39m=\u001b[39m line\n\u001b[0;32m     <a href='vscode-notebook-cell:/c%3A/Users/Lukas/git/Minecraft/MinecraftModpackManager/test/test.ipynb#X10sZmlsZQ%3D%3D?line=50'>51</a>\u001b[0m previous_indentation \u001b[39m=\u001b[39m indentation\n",
      "\u001b[1;32mc:\\Users\\Lukas\\git\\Minecraft\\MinecraftModpackManager\\test\\test.ipynb Cell 8\u001b[0m line \u001b[0;36mparse_file.<locals>.add_mod\u001b[1;34m(name, categories)\u001b[0m\n\u001b[0;32m      <a href='vscode-notebook-cell:/c%3A/Users/Lukas/git/Minecraft/MinecraftModpackManager/test/test.ipynb#X10sZmlsZQ%3D%3D?line=7'>8</a>\u001b[0m \u001b[39mdef\u001b[39;00m \u001b[39madd_mod\u001b[39m(name, categories):\n\u001b[0;32m      <a href='vscode-notebook-cell:/c%3A/Users/Lukas/git/Minecraft/MinecraftModpackManager/test/test.ipynb#X10sZmlsZQ%3D%3D?line=8'>9</a>\u001b[0m     \u001b[39mprint\u001b[39m(\u001b[39m\"\u001b[39m\u001b[39madd mod:\u001b[39m\u001b[39m\"\u001b[39m, name)\n\u001b[1;32m---> <a href='vscode-notebook-cell:/c%3A/Users/Lukas/git/Minecraft/MinecraftModpackManager/test/test.ipynb#X10sZmlsZQ%3D%3D?line=9'>10</a>\u001b[0m     mods[name] \u001b[39m=\u001b[39m categories\u001b[39m.\u001b[39;49mdeepcopy()\n",
      "\u001b[1;31mAttributeError\u001b[0m: 'list' object has no attribute 'deepcopy'"
     ]
    }
   ],
   "source": [
    "parse_file(lines)"
   ]
  },
  {
   "cell_type": "markdown",
   "metadata": {},
   "source": []
  },
  {
   "cell_type": "code",
   "execution_count": null,
   "metadata": {},
   "outputs": [],
   "source": []
  }
 ],
 "metadata": {
  "kernelspec": {
   "display_name": "Python 3",
   "language": "python",
   "name": "python3"
  },
  "language_info": {
   "codemirror_mode": {
    "name": "ipython",
    "version": 3
   },
   "file_extension": ".py",
   "mimetype": "text/x-python",
   "name": "python",
   "nbconvert_exporter": "python",
   "pygments_lexer": "ipython3",
   "version": "3.10.11"
  }
 },
 "nbformat": 4,
 "nbformat_minor": 2
}
