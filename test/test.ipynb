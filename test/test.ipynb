{
 "cells": [
  {
   "cell_type": "code",
   "execution_count": 1,
   "metadata": {},
   "outputs": [],
   "source": [
    "from src.manager import application_manager"
   ]
  },
  {
   "cell_type": "code",
   "execution_count": 2,
   "metadata": {},
   "outputs": [],
   "source": [
    "manager = application_manager.ApplicationManager()"
   ]
  },
  {
   "cell_type": "code",
   "execution_count": 3,
   "metadata": {},
   "outputs": [
    {
     "name": "stdout",
     "output_type": "stream",
     "text": [
      "name: the twilight forrest\n",
      "url:  https://api.modrinth.com/v2/search?query=the+twilight+forrest&limit=20&index=relevance&offset=0&facets=%5B%5B%22project_type+%3A+mod%22%5D%5D\n",
      "- indices :  [10] \n",
      "- scores :  [85.3]\n",
      "best projects:  ['The Aether II']\n",
      "redirecting to api:  search_id_tag\n",
      "url:  https://api.modrinth.com/v2/projects?ids=%5B%22JD2NSu5O%22%5D\n",
      "redirecting to api:  id_tag\n",
      "url:  https://www.curseforge.com/api/v1/mods/search?filterText=the+twilight+forrest&gameId=432&sortField=1&pageSize=50&index=0\n",
      "- indices :  [0] \n",
      "- scores :  [96.9]\n",
      "best projects:  ['The Twilight Forest']\n",
      "redirecting to api:  search_id_tag\n",
      "url:  https://api.curseforge.com/v1/mods\n",
      "redirecting to api:  id_tag\n"
     ]
    },
    {
     "ename": "TypeError",
     "evalue": "unsupported operand type(s) for -: 'list' and 'list'",
     "output_type": "error",
     "traceback": [
      "\u001b[1;31m---------------------------------------------------------------------------\u001b[0m",
      "\u001b[1;31mTypeError\u001b[0m                                 Traceback (most recent call last)",
      "\u001b[1;32mc:\\Users\\Lukas\\git\\Minecraft\\MinecraftModpackManager\\test\\test.ipynb Cell 3\u001b[0m line \u001b[0;36m<cell line: 1>\u001b[1;34m()\u001b[0m\n\u001b[1;32m----> <a href='vscode-notebook-cell:/c%3A/Users/Lukas/git/Minecraft/MinecraftModpackManager/test/test.ipynb#W3sZmlsZQ%3D%3D?line=0'>1</a>\u001b[0m manager\u001b[39m.\u001b[39;49mapiManager\u001b[39m.\u001b[39;49mretrieve_mod(\u001b[39m\"\u001b[39;49m\u001b[39mthe twilight forrest\u001b[39;49m\u001b[39m\"\u001b[39;49m)\n",
      "File \u001b[1;32mc:\\Users\\Lukas\\git\\Minecraft\\MinecraftModpackManager\\src\\manager\\api_manager.py:32\u001b[0m, in \u001b[0;36mApiManager.retrieve_mod\u001b[1;34m(self, name)\u001b[0m\n\u001b[0;32m     29\u001b[0m mod_m, score_m \u001b[39m=\u001b[39m \u001b[39mself\u001b[39m\u001b[39m.\u001b[39mm_api\u001b[39m.\u001b[39mfind_best_matching_mod(name)\n\u001b[0;32m     30\u001b[0m mod_c, score_c \u001b[39m=\u001b[39m \u001b[39mself\u001b[39m\u001b[39m.\u001b[39mc_api\u001b[39m.\u001b[39mfind_best_matching_mod(name)\n\u001b[1;32m---> 32\u001b[0m score_diff \u001b[39m=\u001b[39m \u001b[39mabs\u001b[39m(score_m \u001b[39m-\u001b[39;49m score_c)\n\u001b[0;32m     33\u001b[0m \u001b[39mprint\u001b[39m(\u001b[39m\"\u001b[39m\u001b[39mscore diff: \u001b[39m\u001b[39m\"\u001b[39m, score_diff)\n\u001b[0;32m     36\u001b[0m comparison_score \u001b[39m=\u001b[39m utils\u001b[39m.\u001b[39mmatch_mods(mod_m, mod_c)\n",
      "\u001b[1;31mTypeError\u001b[0m: unsupported operand type(s) for -: 'list' and 'list'"
     ]
    }
   ],
   "source": [
    "manager.apiManager.retrieve_mod(\"the twilight forrest\")"
   ]
  },
  {
   "cell_type": "code",
   "execution_count": 1,
   "metadata": {},
   "outputs": [],
   "source": [
    "import re\n",
    "\n",
    "def remove_brackets(text):\n",
    "    return re.sub(r'\\[.*?\\]', '', text)"
   ]
  },
  {
   "cell_type": "code",
   "execution_count": 118,
   "metadata": {},
   "outputs": [
    {
     "ename": "NameError",
     "evalue": "name 'remove_brackets' is not defined",
     "output_type": "error",
     "traceback": [
      "\u001b[1;31m---------------------------------------------------------------------------\u001b[0m",
      "\u001b[1;31mNameError\u001b[0m                                 Traceback (most recent call last)",
      "\u001b[1;32mc:\\Users\\Lukas\\git\\Minecraft\\MinecraftModpackManager\\test\\test.ipynb Cell 5\u001b[0m line \u001b[0;36m<cell line: 3>\u001b[1;34m()\u001b[0m\n\u001b[0;32m      <a href='vscode-notebook-cell:/c%3A/Users/Lukas/git/Minecraft/MinecraftModpackManager/test/test.ipynb#W4sZmlsZQ%3D%3D?line=0'>1</a>\u001b[0m text \u001b[39m=\u001b[39m \u001b[39m\"\u001b[39m\u001b[39mTerralit [Forge/Fabric]\u001b[39m\u001b[39m\"\u001b[39m\n\u001b[1;32m----> <a href='vscode-notebook-cell:/c%3A/Users/Lukas/git/Minecraft/MinecraftModpackManager/test/test.ipynb#W4sZmlsZQ%3D%3D?line=2'>3</a>\u001b[0m \u001b[39mprint\u001b[39m(remove_brackets(text))\n",
      "\u001b[1;31mNameError\u001b[0m: name 'remove_brackets' is not defined"
     ]
    }
   ],
   "source": [
    "text = \"Terralit [Forge/Fabric]\"\n",
    "\n",
    "print(remove_brackets(text))"
   ]
  },
  {
   "cell_type": "code",
   "execution_count": 119,
   "metadata": {},
   "outputs": [],
   "source": [
    "line = \"\\t\\tThe Aether II  \"\n",
    "comment = \"\\t\\t# This is a comment  \"\n",
    "empty = \"\\t\\t\"\n",
    "\n",
    "filepath = r\"C:\\Users\\Lukas\\git\\Minecraft\\MinecraftModpackManager\\data\\download_list.txt\"\n",
    "with open(filepath, 'r') as f:\n",
    "    lines = f.readlines()\n"
   ]
  },
  {
   "cell_type": "code",
   "execution_count": 120,
   "metadata": {},
   "outputs": [],
   "source": [
    "def parse_file(lines):\n",
    "    current_categories = []\n",
    "    previous_indentation = 0\n",
    "    previous_line = None\n",
    "    mods = {}\n",
    "    intendation_steps = None\n",
    "    \n",
    "    def add_mod(name, categories):\n",
    "        print(\"add mod:\", name)\n",
    "        mods[name] = categories.copy()\n",
    "    \n",
    "    for line in lines:\n",
    "        line = line.rstrip() # remove trailing whitespace\n",
    "        \n",
    "        # TODO: more preciise way to determine indentation (separate tabs from spaces)\n",
    "        indentation = len(line) - len(line.lstrip())\n",
    "        line = line.strip()\n",
    "        \n",
    "        # ignore comments and emtpy lines\n",
    "        if line.startswith(\"#\") or line is None or line == \"\":\n",
    "            continue\n",
    "        \n",
    "        # ignore comment part of not-empty lines and strip again\n",
    "        line = line.split(\"#\")[0].strip()\n",
    "        \n",
    "        # calculate intendation difference to previous line and normalize to 1\n",
    "        diff = indentation - previous_indentation\n",
    "        if intendation_steps is None:\n",
    "            if diff > 0:\n",
    "                intendation_steps = diff\n",
    "        else:\n",
    "            diff //= intendation_steps\n",
    "            \n",
    "        print(\"intendation diff:\", diff, \"categories:\", current_categories)\n",
    "        if previous_line:\n",
    "            if diff > 0:\n",
    "                # previous line was a category\n",
    "                current_categories.append(previous_line)\n",
    "                \n",
    "            elif diff < 0:\n",
    "                # prvious line was a mod\n",
    "                add_mod(previous_line, current_categories)\n",
    "                # remove |diff| number of categories\n",
    "                current_categories = current_categories[:diff]\n",
    "                \n",
    "            elif diff == 0:\n",
    "                # add mod:\n",
    "                add_mod(previous_line, current_categories)\n",
    "                \n",
    "        previous_line = line\n",
    "        previous_indentation = indentation\n",
    "        \n",
    "    # Process the last line of the file\n",
    "    if previous_line:\n",
    "        add_mod(previous_line, current_categories)\n",
    "        \n",
    "        \n",
    "    print(mods)\n",
    "            "
   ]
  },
  {
   "cell_type": "code",
   "execution_count": 140,
   "metadata": {},
   "outputs": [],
   "source": [
    "def parse_download_file(lines):\n",
    "    \n",
    "    def parse_lines(lines):\n",
    "        for line in lines:\n",
    "            line = line.rstrip()  # remove trailing whitespace\n",
    "            indentation = len(line) - len(line.lstrip())\n",
    "            line = line.strip()\n",
    "\n",
    "            # ignore comments and empty lines\n",
    "            if line.startswith(\"#\") or not line:\n",
    "                continue\n",
    "\n",
    "            # ignore comment part of not-empty lines and strip again\n",
    "            line, *comment = line.split(\"#\", 1)\n",
    "            line = line.strip()\n",
    "            comment = comment[0].strip() if comment else None\n",
    "\n",
    "            yield line, indentation, comment\n",
    "    \n",
    "    def add_mod(name, categories, comment = None):\n",
    "        mod_list[name] = {\"categories\"   : categories.copy(),\n",
    "                            \"comment\"      : comment}\n",
    "\n",
    "        current_dict = mod_dict\n",
    "        #categories = categories or [None]\n",
    "        for category in categories:\n",
    "            current_dict = current_dict.setdefault(\"category\", {})\n",
    "            current_dict = current_dict.setdefault(category, {})\n",
    "        current_dict = current_dict.setdefault(\"mods\", [])\n",
    "        current_dict.append({\"name\" : name, \"comment\" : comment})\n",
    "                \n",
    "    mod_dict = {}\n",
    "    mod_list = {}\n",
    "            \n",
    "    current_categories = []\n",
    "    indentation = 0\n",
    "    line = None\n",
    "    intendation_steps = None\n",
    "    comment = None\n",
    "                \n",
    "    for next_line, next_indentation, next_comment in parse_lines(lines):\n",
    "        \n",
    "        # calculate intendation difference to previous line and normalize to 1\n",
    "        diff = next_indentation - indentation\n",
    "        if intendation_steps is None:\n",
    "            if diff > 0:\n",
    "                intendation_steps = diff\n",
    "        else:\n",
    "            diff //= intendation_steps\n",
    "            \n",
    "        if line:\n",
    "            if diff > 0:\n",
    "                # previous line was a category\n",
    "                current_categories.append(line)\n",
    "                \n",
    "            elif diff < 0:\n",
    "                # prvious line was a mod\n",
    "                add_mod(line, current_categories, comment)\n",
    "                # remove |diff| number of categories\n",
    "                current_categories = current_categories[:diff]\n",
    "                \n",
    "            elif diff == 0:\n",
    "                # add mod:\n",
    "                add_mod(line, current_categories, comment)\n",
    "                \n",
    "        line = next_line\n",
    "        indentation = next_indentation\n",
    "        comment = next_comment\n",
    "        \n",
    "    # Process the last line of the file\n",
    "    if line:\n",
    "        add_mod(line, current_categories, next_comment)\n",
    "        \n",
    "    return mod_dict, mod_list"
   ]
  },
  {
   "cell_type": "markdown",
   "metadata": {},
   "source": []
  },
  {
   "cell_type": "code",
   "execution_count": 141,
   "metadata": {},
   "outputs": [
    {
     "name": "stdout",
     "output_type": "stream",
     "text": [
      "0\n"
     ]
    }
   ],
   "source": [
    "categories2 = [\"a\", \"b\", \"c\"]\n",
    "categories1 = [\"b\", \"b\"]\n",
    "\n",
    "def compare_categories(categories1, categories2):\n",
    "    mask = [c1 == c2 for c1, c2 in zip(categories1, categories2)]\n",
    "    intendation =  mask.index(False) if False in mask else sum(mask)\n",
    "    \n",
    "    print(intendation)\n",
    "    \n",
    "compare_categories(categories1, categories2)\n",
    "\n"
   ]
  },
  {
   "cell_type": "code",
   "execution_count": 142,
   "metadata": {},
   "outputs": [
    {
     "name": "stdout",
     "output_type": "stream",
     "text": [
      "0\n"
     ]
    }
   ],
   "source": [
    "if 0 == False:\n",
    "    print(\"0\")"
   ]
  },
  {
   "cell_type": "code",
   "execution_count": 145,
   "metadata": {},
   "outputs": [
    {
     "name": "stdout",
     "output_type": "stream",
     "text": [
      "{'category': {'Content': {'category': {'Pack': {'mods': [{'comment': None,\n",
      "                                                          'name': 'The '\n",
      "                                                                  'Aether'}]}}},\n",
      "              'World': {'category': {'Generation': {'mods': [{'comment': None,\n",
      "                                                              'name': 'Terralith'},\n",
      "                                                             {'comment': 'This '\n",
      "                                                                         'is '\n",
      "                                                                         'probably '\n",
      "                                                                         'a '\n",
      "                                                                         'data',\n",
      "                                                              'name': 'Structory'},\n",
      "                                                             {'comment': None,\n",
      "                                                              'name': 'Incendium'}]},\n",
      "                                     'Strucutres': {'mods': [{'comment': None,\n",
      "                                                              'name': 'Pillager '\n",
      "                                                                      'Outposts'}]}},\n",
      "                        'mods': [{'comment': None,\n",
      "                                  'name': 'General World Mod 1'},\n",
      "                                 {'comment': None,\n",
      "                                  'name': 'General World Mod 2'}]}},\n",
      " 'mods': [{'comment': None, 'name': 'ServerSync'}]}\n"
     ]
    }
   ],
   "source": [
    "from pprint import pprint\n",
    "mod_dict, db = parse_download_file(lines)\n",
    "pprint(mod_dict)\n"
   ]
  },
  {
   "cell_type": "code",
   "execution_count": 146,
   "metadata": {},
   "outputs": [],
   "source": [
    "def generate_download_file(mods):        \n",
    "        def get_spaces(intendation):\n",
    "            return \" \" * intendation * 4\n",
    "    \n",
    "        def iterate_dict(current_dict, level = 0):\n",
    "            for key, value in current_dict.items():\n",
    "                if key == \"mods\":\n",
    "                    for mod in value:\n",
    "                        yield level, mod[\"name\"], mod[\"comment\"]\n",
    "                elif key == \"category\":\n",
    "                    yield from iterate_dict(value, level)\n",
    "                else:\n",
    "                    yield level, key, None\n",
    "                    yield from iterate_dict(value, level + 1)\n",
    "                    \n",
    "        \n",
    "        lines = []\n",
    "        for level, name, comment in iterate_dict(mods):\n",
    "            line = get_spaces(level) + name\n",
    "            if comment:\n",
    "                line += \" # \" + comment\n",
    "            lines.append(line)\n",
    "\n",
    "        \n",
    "        return lines"
   ]
  },
  {
   "cell_type": "code",
   "execution_count": 147,
   "metadata": {},
   "outputs": [
    {
     "data": {
      "text/plain": [
       "['ServerSync',\n",
       " 'Content',\n",
       " '    Pack',\n",
       " '        The Aether',\n",
       " 'World',\n",
       " '    General World Mod 1',\n",
       " '    General World Mod 2',\n",
       " '    Generation',\n",
       " '        Terralith',\n",
       " '        Structory # This is probably a data',\n",
       " '        Incendium',\n",
       " '    Strucutres',\n",
       " '        Pillager Outposts']"
      ]
     },
     "execution_count": 147,
     "metadata": {},
     "output_type": "execute_result"
    }
   ],
   "source": [
    "generate_download_file(mod_dict)"
   ]
  },
  {
   "cell_type": "markdown",
   "metadata": {},
   "source": [
    "## TinyDB tests "
   ]
  },
  {
   "cell_type": "code",
   "execution_count": 5,
   "metadata": {},
   "outputs": [],
   "source": [
    "from tinydb import TinyDB, Query\n",
    "from src.config import config"
   ]
  },
  {
   "cell_type": "code",
   "execution_count": 24,
   "metadata": {},
   "outputs": [],
   "source": [
    "db = TinyDB(config.mod_list_file)\n",
    "db.truncate()"
   ]
  },
  {
   "cell_type": "code",
   "execution_count": 25,
   "metadata": {},
   "outputs": [
    {
     "data": {
      "text/plain": [
       "[1]"
      ]
     },
     "execution_count": 25,
     "metadata": {},
     "output_type": "execute_result"
    }
   ],
   "source": [
    "data = db.all()\n",
    "\n",
    "db.insert({\"mods\" : {}})\n",
    "# append something to the mods idct in mod_list\n",
    "db.update({\"mods\" : {\"a\" : {}}})"
   ]
  },
  {
   "cell_type": "code",
   "execution_count": 26,
   "metadata": {},
   "outputs": [
    {
     "name": "stdout",
     "output_type": "stream",
     "text": [
      "[{'mods': {'a': {}}}]\n"
     ]
    }
   ],
   "source": [
    "print(db.all())"
   ]
  },
  {
   "cell_type": "code",
   "execution_count": 1,
   "metadata": {},
   "outputs": [
    {
     "ename": "RuntimeError",
     "evalue": "asyncio.run() cannot be called from a running event loop",
     "output_type": "error",
     "traceback": [
      "\u001b[1;31m---------------------------------------------------------------------------\u001b[0m",
      "\u001b[1;31mRuntimeError\u001b[0m                              Traceback (most recent call last)",
      "\u001b[1;32mc:\\Users\\Lukas\\git\\Minecraft\\MinecraftModpackManager\\test\\test.ipynb Cell 20\u001b[0m line \u001b[0;36m<cell line: 14>\u001b[1;34m()\u001b[0m\n\u001b[0;32m     <a href='vscode-notebook-cell:/c%3A/Users/Lukas/git/Minecraft/MinecraftModpackManager/test/test.ipynb#X32sZmlsZQ%3D%3D?line=10'>11</a>\u001b[0m     \u001b[39mprint\u001b[39m(\u001b[39m\"\u001b[39m\u001b[39mB\u001b[39m\u001b[39m\"\u001b[39m)\n\u001b[0;32m     <a href='vscode-notebook-cell:/c%3A/Users/Lukas/git/Minecraft/MinecraftModpackManager/test/test.ipynb#X32sZmlsZQ%3D%3D?line=11'>12</a>\u001b[0m     \u001b[39m#await task\u001b[39;00m\n\u001b[1;32m---> <a href='vscode-notebook-cell:/c%3A/Users/Lukas/git/Minecraft/MinecraftModpackManager/test/test.ipynb#X32sZmlsZQ%3D%3D?line=13'>14</a>\u001b[0m asyncio\u001b[39m.\u001b[39;49mrun(func1())\n",
      "File \u001b[1;32mC:\\Program Files\\WindowsApps\\PythonSoftwareFoundation.Python.3.10_3.10.3056.0_x64__qbz5n2kfra8p0\\lib\\asyncio\\runners.py:33\u001b[0m, in \u001b[0;36mrun\u001b[1;34m(main, debug)\u001b[0m\n\u001b[0;32m      9\u001b[0m \u001b[39m\"\"\"Execute the coroutine and return the result.\u001b[39;00m\n\u001b[0;32m     10\u001b[0m \n\u001b[0;32m     11\u001b[0m \u001b[39mThis function runs the passed coroutine, taking care of\u001b[39;00m\n\u001b[1;32m   (...)\u001b[0m\n\u001b[0;32m     30\u001b[0m \u001b[39m    asyncio.run(main())\u001b[39;00m\n\u001b[0;32m     31\u001b[0m \u001b[39m\"\"\"\u001b[39;00m\n\u001b[0;32m     32\u001b[0m \u001b[39mif\u001b[39;00m events\u001b[39m.\u001b[39m_get_running_loop() \u001b[39mis\u001b[39;00m \u001b[39mnot\u001b[39;00m \u001b[39mNone\u001b[39;00m:\n\u001b[1;32m---> 33\u001b[0m     \u001b[39mraise\u001b[39;00m \u001b[39mRuntimeError\u001b[39;00m(\n\u001b[0;32m     34\u001b[0m         \u001b[39m\"\u001b[39m\u001b[39masyncio.run() cannot be called from a running event loop\u001b[39m\u001b[39m\"\u001b[39m)\n\u001b[0;32m     36\u001b[0m \u001b[39mif\u001b[39;00m \u001b[39mnot\u001b[39;00m coroutines\u001b[39m.\u001b[39miscoroutine(main):\n\u001b[0;32m     37\u001b[0m     \u001b[39mraise\u001b[39;00m \u001b[39mValueError\u001b[39;00m(\u001b[39m\"\u001b[39m\u001b[39ma coroutine was expected, got \u001b[39m\u001b[39m{!r}\u001b[39;00m\u001b[39m\"\u001b[39m\u001b[39m.\u001b[39mformat(main))\n",
      "\u001b[1;31mRuntimeError\u001b[0m: asyncio.run() cannot be called from a running event loop"
     ]
    }
   ],
   "source": [
    "import asyncio\n",
    "\n",
    "async def func2():\n",
    "    print(1)\n",
    "    await asyncio.sleep(1)\n",
    "    print(2)\n",
    "\n",
    "async def func1():\n",
    "    task = asyncio.create_task(func2())\n",
    "    print(\"A\")\n",
    "    print(\"B\")\n",
    "    #await task\n",
    "    \n",
    "asyncio.run(func1())"
   ]
  },
  {
   "cell_type": "code",
   "execution_count": null,
   "metadata": {},
   "outputs": [],
   "source": []
  }
 ],
 "metadata": {
  "kernelspec": {
   "display_name": "Python 3",
   "language": "python",
   "name": "python3"
  },
  "language_info": {
   "codemirror_mode": {
    "name": "ipython",
    "version": 3
   },
   "file_extension": ".py",
   "mimetype": "text/x-python",
   "name": "python",
   "nbconvert_exporter": "python",
   "pygments_lexer": "ipython3",
   "version": "3.10.11"
  }
 },
 "nbformat": 4,
 "nbformat_minor": 2
}
